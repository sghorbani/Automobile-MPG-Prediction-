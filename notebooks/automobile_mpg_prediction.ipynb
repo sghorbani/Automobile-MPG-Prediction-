{
 "cells": [
  {
   "cell_type": "code",
   "execution_count": 186,
   "id": "a21e379f-dd70-4d1b-9fb6-69ee80f2871b",
   "metadata": {},
   "outputs": [
    {
     "name": "stdout",
     "output_type": "stream",
     "text": [
      "rows:398 columns: 9\n"
     ]
    }
   ],
   "source": [
    "\n",
    "import os\n",
    "import pandas as pd\n",
    "import numpy as np\n",
    "import matplotlib.pyplot as plt\n",
    "from sklearn.preprocessing import StandardScaler\n",
    "from sklearn.preprocessing import StandardScaler\n",
    "from sklearn.model_selection import train_test_split\n",
    "from sklearn.linear_model import LinearRegression\n",
    "from sklearn.metrics import mean_absolute_error, mean_squared_error, r2_score\n",
    "import seaborn as sns\n",
    "\n",
    "\n",
    "columns = [\"mpg\", \"cylinders\", \"displacement\", \"horsepower\", \"weight\",\n",
    "           \"acceleration\", \"model_year\", \"origin\", \"car_name\"]\n",
    "\n",
    "df = pd.read_csv('../data/auto-mpg.data',\n",
    "                 sep=r'\\s+',\n",
    "                 names=columns,\n",
    "                 na_values='?')\n",
    "\n",
    "print(f\"rows:{df.shape[0]} columns: {df.shape[1]}\")\n"
   ]
  },
  {
   "cell_type": "code",
   "execution_count": 187,
   "id": "27bc471d",
   "metadata": {},
   "outputs": [
    {
     "name": "stdout",
     "output_type": "stream",
     "text": [
      "<class 'pandas.core.frame.DataFrame'>\n",
      "RangeIndex: 398 entries, 0 to 397\n",
      "Data columns (total 9 columns):\n",
      " #   Column        Non-Null Count  Dtype  \n",
      "---  ------        --------------  -----  \n",
      " 0   mpg           398 non-null    float64\n",
      " 1   cylinders     398 non-null    int64  \n",
      " 2   displacement  398 non-null    float64\n",
      " 3   horsepower    392 non-null    float64\n",
      " 4   weight        398 non-null    float64\n",
      " 5   acceleration  398 non-null    float64\n",
      " 6   model_year    398 non-null    int64  \n",
      " 7   origin        398 non-null    int64  \n",
      " 8   car_name      398 non-null    object \n",
      "dtypes: float64(5), int64(3), object(1)\n",
      "memory usage: 28.1+ KB\n",
      "None\n"
     ]
    }
   ],
   "source": [
    "print(df.info())"
   ]
  },
  {
   "cell_type": "code",
   "execution_count": 188,
   "id": "b3368723",
   "metadata": {},
   "outputs": [
    {
     "name": "stdout",
     "output_type": "stream",
     "text": [
      "              mpg   cylinders  displacement  horsepower       weight  \\\n",
      "count  398.000000  398.000000    398.000000  392.000000   398.000000   \n",
      "mean    23.514573    5.454774    193.425879  104.469388  2970.424623   \n",
      "std      7.815984    1.701004    104.269838   38.491160   846.841774   \n",
      "min      9.000000    3.000000     68.000000   46.000000  1613.000000   \n",
      "25%     17.500000    4.000000    104.250000   75.000000  2223.750000   \n",
      "50%     23.000000    4.000000    148.500000   93.500000  2803.500000   \n",
      "75%     29.000000    8.000000    262.000000  126.000000  3608.000000   \n",
      "max     46.600000    8.000000    455.000000  230.000000  5140.000000   \n",
      "\n",
      "       acceleration  model_year      origin  \n",
      "count    398.000000  398.000000  398.000000  \n",
      "mean      15.568090   76.010050    1.572864  \n",
      "std        2.757689    3.697627    0.802055  \n",
      "min        8.000000   70.000000    1.000000  \n",
      "25%       13.825000   73.000000    1.000000  \n",
      "50%       15.500000   76.000000    1.000000  \n",
      "75%       17.175000   79.000000    2.000000  \n",
      "max       24.800000   82.000000    3.000000  \n"
     ]
    }
   ],
   "source": [
    "print(df.describe())  "
   ]
  },
  {
   "cell_type": "code",
   "execution_count": 189,
   "id": "037b04e5",
   "metadata": {},
   "outputs": [
    {
     "name": "stdout",
     "output_type": "stream",
     "text": [
      "mpg             0\n",
      "cylinders       0\n",
      "displacement    0\n",
      "horsepower      6\n",
      "weight          0\n",
      "acceleration    0\n",
      "model_year      0\n",
      "origin          0\n",
      "car_name        0\n",
      "dtype: int64\n"
     ]
    }
   ],
   "source": [
    "print(df.isnull().sum())"
   ]
  },
  {
   "cell_type": "code",
   "execution_count": 190,
   "id": "0d742221",
   "metadata": {},
   "outputs": [
    {
     "name": "stdout",
     "output_type": "stream",
     "text": [
      "---\n",
      "Column: mpg\n",
      "Stats:\n",
      "count    398.000000\n",
      "mean      23.514573\n",
      "std        7.815984\n",
      "min        9.000000\n",
      "25%       17.500000\n",
      "50%       23.000000\n",
      "75%       29.000000\n",
      "max       46.600000\n",
      "Name: mpg, dtype: float64\n",
      "Nulls: 0\n",
      "Unique values: 129\n",
      "\n",
      "---\n",
      "Column: cylinders\n",
      "Stats:\n",
      "count    398.000000\n",
      "mean       5.454774\n",
      "std        1.701004\n",
      "min        3.000000\n",
      "25%        4.000000\n",
      "50%        4.000000\n",
      "75%        8.000000\n",
      "max        8.000000\n",
      "Name: cylinders, dtype: float64\n",
      "Nulls: 0\n",
      "Unique values: 5\n",
      "\n",
      "---\n",
      "Column: displacement\n",
      "Stats:\n",
      "count    398.000000\n",
      "mean     193.425879\n",
      "std      104.269838\n",
      "min       68.000000\n",
      "25%      104.250000\n",
      "50%      148.500000\n",
      "75%      262.000000\n",
      "max      455.000000\n",
      "Name: displacement, dtype: float64\n",
      "Nulls: 0\n",
      "Unique values: 82\n",
      "\n",
      "---\n",
      "Column: horsepower\n",
      "Stats:\n",
      "count    392.000000\n",
      "mean     104.469388\n",
      "std       38.491160\n",
      "min       46.000000\n",
      "25%       75.000000\n",
      "50%       93.500000\n",
      "75%      126.000000\n",
      "max      230.000000\n",
      "Name: horsepower, dtype: float64\n",
      "Nulls: 6\n",
      "Unique values: 93\n",
      "\n",
      "---\n",
      "Column: weight\n",
      "Stats:\n",
      "count     398.000000\n",
      "mean     2970.424623\n",
      "std       846.841774\n",
      "min      1613.000000\n",
      "25%      2223.750000\n",
      "50%      2803.500000\n",
      "75%      3608.000000\n",
      "max      5140.000000\n",
      "Name: weight, dtype: float64\n",
      "Nulls: 0\n",
      "Unique values: 351\n",
      "\n",
      "---\n",
      "Column: acceleration\n",
      "Stats:\n",
      "count    398.000000\n",
      "mean      15.568090\n",
      "std        2.757689\n",
      "min        8.000000\n",
      "25%       13.825000\n",
      "50%       15.500000\n",
      "75%       17.175000\n",
      "max       24.800000\n",
      "Name: acceleration, dtype: float64\n",
      "Nulls: 0\n",
      "Unique values: 95\n",
      "\n",
      "---\n",
      "Column: model_year\n",
      "Stats:\n",
      "count    398.000000\n",
      "mean      76.010050\n",
      "std        3.697627\n",
      "min       70.000000\n",
      "25%       73.000000\n",
      "50%       76.000000\n",
      "75%       79.000000\n",
      "max       82.000000\n",
      "Name: model_year, dtype: float64\n",
      "Nulls: 0\n",
      "Unique values: 13\n",
      "\n",
      "---\n",
      "Column: origin\n",
      "Stats:\n",
      "count    398.000000\n",
      "mean       1.572864\n",
      "std        0.802055\n",
      "min        1.000000\n",
      "25%        1.000000\n",
      "50%        1.000000\n",
      "75%        2.000000\n",
      "max        3.000000\n",
      "Name: origin, dtype: float64\n",
      "Nulls: 0\n",
      "Unique values: 3\n",
      "\n",
      "---\n",
      "Column: cylinders\n",
      "Unique values/count: 5\n",
      "Sample values: [8 4 6 3 5]\n",
      "Top 10 most common:\n",
      "cylinders\n",
      "4    204\n",
      "8    103\n",
      "6     84\n",
      "3      4\n",
      "5      3\n",
      "Name: count, dtype: int64\n",
      "\n",
      "---\n",
      "Column: model_year\n",
      "Unique values/count: 13\n",
      "Sample values: [70 71 72 73 74 75 76 77 78 79]\n",
      "Top 10 most common:\n",
      "model_year\n",
      "73    40\n",
      "78    36\n",
      "76    34\n",
      "82    31\n",
      "75    30\n",
      "80    29\n",
      "79    29\n",
      "81    29\n",
      "70    29\n",
      "71    28\n",
      "Name: count, dtype: int64\n",
      "\n",
      "---\n",
      "Column: origin\n",
      "Unique values/count: 3\n",
      "Sample values: [1 3 2]\n",
      "Top 10 most common:\n",
      "origin\n",
      "1    249\n",
      "3     79\n",
      "2     70\n",
      "Name: count, dtype: int64\n",
      "\n",
      "---\n",
      "Column: car_name\n",
      "Unique values/count: 305\n",
      "Sample values: ['chevrolet chevelle malibu' 'buick skylark 320' 'plymouth satellite'\n",
      " 'amc rebel sst' 'ford torino' 'ford galaxie 500' 'chevrolet impala'\n",
      " 'plymouth fury iii' 'pontiac catalina' 'amc ambassador dpl']\n",
      "Top 10 most common:\n",
      "car_name\n",
      "ford pinto            6\n",
      "toyota corolla        5\n",
      "ford maverick         5\n",
      "amc matador           5\n",
      "amc gremlin           4\n",
      "chevrolet chevette    4\n",
      "peugeot 504           4\n",
      "chevrolet impala      4\n",
      "toyota corona         4\n",
      "amc hornet            4\n",
      "Name: count, dtype: int64\n",
      "\n"
     ]
    }
   ],
   "source": [
    "numeric_cols = df.select_dtypes(include=['float64', 'int64']).columns\n",
    "\n",
    "for col in numeric_cols:\n",
    "    print(f\"---\\nColumn: {col}\")\n",
    "    print(\"Stats:\")\n",
    "    print(df[col].describe())\n",
    "    print(\"Nulls:\", df[col].isnull().sum())\n",
    "    print(\"Unique values:\", df[col].nunique())\n",
    "    print()\n",
    "\n",
    "categorical_cols = ['cylinders', 'model_year', 'origin', 'car_name']\n",
    "for col in categorical_cols:\n",
    "    print(f\"---\\nColumn: {col}\")\n",
    "    print(\"Unique values/count:\", df[col].nunique())\n",
    "    print(\"Sample values:\", df[col].unique()[:10])  \n",
    "    print(\"Top 10 most common:\")\n",
    "    print(df[col].value_counts().head(10))\n",
    "    print()"
   ]
  },
  {
   "cell_type": "code",
   "execution_count": 191,
   "id": "79585344",
   "metadata": {},
   "outputs": [
    {
     "name": "stdout",
     "output_type": "stream",
     "text": [
      "missed values before:\n",
      "6\n",
      "missed values after:\n",
      "0\n"
     ]
    }
   ],
   "source": [
    "\n",
    "print(\"missed values before:\")\n",
    "print(df['horsepower'].isnull().sum())   \n",
    "\n",
    "median_hp = df['horsepower'].median() \n",
    "df.fillna({'horsepower': median_hp}, inplace=True)\n",
    "\n",
    "\n",
    "print(\"missed values after:\")\n",
    "print(df['horsepower'].isnull().sum())     \n"
   ]
  },
  {
   "cell_type": "code",
   "execution_count": 192,
   "id": "cdc4f3d1-9dac-4d98-b54b-17a9412416ae",
   "metadata": {},
   "outputs": [],
   "source": [
    "\n",
    "# One-Hot Encoding برای origin\n",
    "df = pd.get_dummies(df, columns=['origin'], prefix='origin')\n",
    " \n",
    "  \n",
    "df = pd.get_dummies(df, columns=['cylinders'], prefix='cyl')\n",
    " \n",
    "df = df.drop('car_name', axis=1)\n",
    " "
   ]
  },
  {
   "cell_type": "code",
   "execution_count": 193,
   "id": "e371881b",
   "metadata": {},
   "outputs": [
    {
     "name": "stdout",
     "output_type": "stream",
     "text": [
      "Train shape: (318, 13) Test shape: (80, 13)\n",
      "Model coefficients: [ 0.01515546 -0.03385105 -0.00589463  0.02016108  0.77239402 -1.5753126\n",
      "  0.53328052  1.04203208 -4.78068024  2.02950183  2.21614055 -0.80865445\n",
      "  1.3436923 ]\n",
      "Intercept: -17.895014902874074\n"
     ]
    }
   ],
   "source": [
    "\n",
    "X = df.drop(['mpg'], axis=1)  # تمام ستون‌ها به‌جز mpg\n",
    "y = df['mpg']\n",
    "X = df.drop('mpg', axis=1)\n",
    " \n",
    "\n",
    "X_train, X_test, y_train, y_test = train_test_split(X, y, test_size=0.2, random_state=42)\n",
    "print(\"Train shape:\", X_train.shape, \"Test shape:\", X_test.shape)\n",
    "\n",
    "\n",
    "model = LinearRegression()\n",
    "model.fit(X_train, y_train)\n",
    "\n",
    "y_pred = model.predict(X_test)\n",
    "\n",
    "print(\"Model coefficients:\", model.coef_)\n",
    "print(\"Intercept:\", model.intercept_)\n",
    "\n",
    "\n"
   ]
  },
  {
   "cell_type": "code",
   "execution_count": 194,
   "id": "d0ffcaf5-8416-4e18-9f71-e23d8e81ebb7",
   "metadata": {},
   "outputs": [
    {
     "name": "stdout",
     "output_type": "stream",
     "text": [
      "MAE: 2.13\n",
      "RMSE: 2.69\n",
      "R2 score: 0.87\n"
     ]
    }
   ],
   "source": [
    "\n",
    "mae = mean_absolute_error(y_test, y_pred)\n",
    "rmse = np.sqrt(mean_squared_error(y_test, y_pred))\n",
    "r2 = r2_score(y_test, y_pred)\n",
    "\n",
    "print(f\"MAE: {mae:.2f}\")\n",
    "print(f\"RMSE: {rmse:.2f}\")\n",
    "print(f\"R2 score: {r2:.2f}\")\n"
   ]
  },
  {
   "cell_type": "code",
   "execution_count": 195,
   "id": "e30c341c",
   "metadata": {},
   "outputs": [
    {
     "data": {
      "image/png": "[encoded data removed]",
      "text/plain": [
       "<Figure size 800x500 with 1 Axes>"
      ]
     },
     "metadata": {},
     "output_type": "display_data"
    }
   ],
   "source": [
    "\n",
    "residuals = y_test - y_pred\n",
    "\n",
    "# رسم نمودار پسماندها\n",
    "plt.figure(figsize=(8, 5))\n",
    "plt.scatter(y_pred, residuals, alpha=0.7)\n",
    "plt.axhline(0, color='red', linestyle='dashed')\n",
    "plt.xlabel('Predicted MPG')\n",
    "plt.ylabel('Residuals (Actual - Predicted)')\n",
    "plt.title('Residuals vs. Predicted MPG')\n",
    "plt.show()\n",
    " \n"
   ]
  },
  {
   "cell_type": "code",
   "execution_count": 197,
   "id": "2c10fd4e",
   "metadata": {},
   "outputs": [
    {
     "data": {
      "image/png": "[encoded data removed]",
      "text/plain": [
       "<Figure size 800x400 with 1 Axes>"
      ]
     },
     "metadata": {},
     "output_type": "display_data"
    }
   ],
   "source": [
    "\n",
    "plt.figure(figsize=(8, 4))\n",
    "sns.kdeplot(residuals,   color='blue', alpha=0.8)\n",
    "plt.xlabel('Residual')\n",
    "plt.ylabel('Density')\n",
    "plt.title('Distribution of Residuals (Kernel Density Plot)')\n",
    "plt.show()"
   ]
  }
 ],
 "metadata": {
  "kernelspec": {
   "display_name": "Python 3",
   "language": "python",
   "name": "python3"
  },
  "language_info": {
   "codemirror_mode": {
    "name": "ipython",
    "version": 3
   },
   "file_extension": ".py",
   "mimetype": "text/x-python",
   "name": "python",
   "nbconvert_exporter": "python",
   "pygments_lexer": "ipython3",
   "version": "3.12.8"
  }
 },
 "nbformat": 4,
 "nbformat_minor": 5
}
